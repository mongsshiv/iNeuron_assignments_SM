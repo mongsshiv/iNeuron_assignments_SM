{
 "cells": [
  {
   "cell_type": "markdown",
   "id": "8d577af5",
   "metadata": {},
   "source": [
    "# 1. Write a Python Program to Find LCM?"
   ]
  },
  {
   "cell_type": "code",
   "execution_count": 5,
   "id": "bbca2a70",
   "metadata": {},
   "outputs": [
    {
     "name": "stdout",
     "output_type": "stream",
     "text": [
      "the lcm is  105\n",
      "the lcm is  105\n"
     ]
    }
   ],
   "source": [
    "def find_lcm(x, y):\n",
    "    #choose the greater number:\n",
    "    if x > y:\n",
    "        greater = x\n",
    "        \n",
    "    else:\n",
    "        greater = y\n",
    "        \n",
    "    while(True):\n",
    "        if (greater % x == 0) and (greater % y == 0):\n",
    "            lcm = greater\n",
    "            break\n",
    "        greater = greater + 1\n",
    "        \n",
    "    return lcm\n",
    "\n",
    "num1 = 15\n",
    "num2 = 7\n",
    "\n",
    "print(\"the lcm is \", find_lcm(num1, num2))"
   ]
  },
  {
   "cell_type": "markdown",
   "id": "79ae8df4",
   "metadata": {},
   "source": [
    "# 2. Write a Python Program to Find HCF?"
   ]
  },
  {
   "cell_type": "code",
   "execution_count": 6,
   "id": "ef663f37",
   "metadata": {},
   "outputs": [
    {
     "name": "stdout",
     "output_type": "stream",
     "text": [
      "the hcf is:  4\n",
      "the hcf is:  4\n"
     ]
    }
   ],
   "source": [
    "def find_hcf(num1, num2):\n",
    "    \n",
    "    if num1 < num2:\n",
    "        smaller = num1\n",
    "    else:\n",
    "        smaller = num2\n",
    "        \n",
    "    for i in range(2,smaller + 1):\n",
    "        if (num1 % i == 0) and (num2 % i ==0):\n",
    "            hcf = i\n",
    "            #print(\"the hcf is: \", i)\n",
    "            \n",
    "    return hcf\n",
    "        \n",
    "\n",
    "num1 = 28\n",
    "num2 = 16\n",
    "\n",
    "print(\"the hcf is: \", find_hcf(num1, num2))\n",
    "        "
   ]
  },
  {
   "cell_type": "markdown",
   "id": "76cf86c3",
   "metadata": {},
   "source": [
    "def find_hcf(num1, num2):\n",
    "    \n",
    "    if num1 < num2:\n",
    "        smaller = num1\n",
    "    else:\n",
    "        smaller = num2\n",
    "        \n",
    "    for i in range(2,smaller + 1):\n",
    "        \n",
    "        while (num1 % i == 0) and (num2 % i == 0):\n",
    "            i = i+1\n",
    "            \n",
    "    return i\n",
    "            \n",
    "        \n",
    "\n",
    "num1 = 18\n",
    "num2 = 12\n",
    "\n",
    "print(\"the hcf is: \", find_hcf(num1, num2))\n",
    "        "
   ]
  },
  {
   "cell_type": "markdown",
   "id": "c1d9b19a",
   "metadata": {},
   "source": [
    "# 3. Write a Python Program to Convert Decimal to Binary, Octal and Hexadecimal?"
   ]
  },
  {
   "cell_type": "code",
   "execution_count": 13,
   "id": "afe007b0",
   "metadata": {},
   "outputs": [
    {
     "name": "stdout",
     "output_type": "stream",
     "text": [
      "Enter integer value: 457\n",
      "The decimal value of 457 is:\n",
      "0b111001001 in binary.\n",
      "0o711 in octal.\n",
      "0x1c9 in hexadecimal.\n"
     ]
    }
   ],
   "source": [
    "# Python program to convert decimal into other number systems\n",
    "dec = int(input(\"Enter integer value: \"))\n",
    "\n",
    "print(\"The decimal value of\", dec, \"is:\")\n",
    "print(bin(dec), \"in binary.\")\n",
    "print(oct(dec), \"in octal.\")\n",
    "print(hex(dec), \"in hexadecimal.\")\n"
   ]
  },
  {
   "cell_type": "markdown",
   "id": "c3f03982",
   "metadata": {},
   "source": [
    "# 4. Write a Python Program To Find ASCII value of a character?"
   ]
  },
  {
   "cell_type": "code",
   "execution_count": 4,
   "id": "e622c64b",
   "metadata": {},
   "outputs": [
    {
     "name": "stdout",
     "output_type": "stream",
     "text": [
      "enter a value: y\n",
      "the ASCII value of  y is  121\n"
     ]
    }
   ],
   "source": [
    "charac = input(\"enter a value: \")\n",
    "print(\"the ASCII value of \", charac, \"is \", ord(charac))"
   ]
  },
  {
   "cell_type": "code",
   "execution_count": 8,
   "id": "2f98936c",
   "metadata": {},
   "outputs": [
    {
     "data": {
      "text/plain": [
       "'t'"
      ]
     },
     "execution_count": 8,
     "metadata": {},
     "output_type": "execute_result"
    }
   ],
   "source": [
    "chr(ord('s') + 1)"
   ]
  },
  {
   "cell_type": "markdown",
   "id": "5e030cdc",
   "metadata": {},
   "source": [
    "# 5. Write a Python Program to Make a Simple Calculator with 4 basic mathematical operations?"
   ]
  },
  {
   "cell_type": "code",
   "execution_count": null,
   "id": "263afd53",
   "metadata": {},
   "outputs": [],
   "source": [
    "def addition(x , y):\n",
    "    return x + y \n",
    "    \n",
    "def subtraction(x , y):\n",
    "    return x - y\n",
    "    \n",
    "def multiply(x , y):\n",
    "    return x * y\n",
    "\n",
    "def divide (x , y):\n",
    "    return x / y\n",
    "\n",
    "print(\"select operation\")\n",
    "print(\"1. addition\")\n",
    "print(\"2. subtraction\")\n",
    "print(\"3. multiplication\")\n",
    "print(\"4. division\")\n",
    "\n",
    "while True:\n",
    "    choice = input(\"choose the operation among: 1/2/3/4- \")\n",
    "    \n",
    "    if choice in (\"1\",\"2\",\"3\",\"4\"):\n",
    "        \n",
    "        try:\n",
    "            num1 = float(input(\"enter first number: \"))\n",
    "            num2 = float(input(\"enter second number: \"))\n",
    "            \n",
    "            \n",
    "        except ValueError:\n",
    "            print(\"Invalid input. please eneter a valid number!\")\n",
    "            continue\n",
    "            \n",
    "        if choice == \"1\":\n",
    "            print(num1 , \"+\" , num2, \"=\", addition(num1, num2))\n",
    "            \n",
    "        elif choice == \"2\":\n",
    "            print(num1 , \"-\" , num2, \"=\", subtraction(num1, num2))\n",
    "            \n",
    "        elif choice == \"3\":\n",
    "            print(num1 , \"*\" , num2, \"=\", multiply(num1, num2))\n",
    "            \n",
    "        elif choice == \"4\":\n",
    "            print(num1 , \"/\" , num2, \"=\", divide(num1, num2))\n",
    "            \n",
    "        next_calculation = input(\"next calculation, (yes/no)?\")\n",
    "        \n",
    "        if next_calculation == \"no\":\n",
    "            break\n",
    "            \n",
    "        else:\n",
    "            continue\n",
    "            \n",
    "    else:\n",
    "        print(\"invalid input\")"
   ]
  },
  {
   "cell_type": "code",
   "execution_count": null,
   "id": "7dbad434",
   "metadata": {},
   "outputs": [],
   "source": []
  }
 ],
 "metadata": {
  "kernelspec": {
   "display_name": "Python 3 (ipykernel)",
   "language": "python",
   "name": "python3"
  },
  "language_info": {
   "codemirror_mode": {
    "name": "ipython",
    "version": 3
   },
   "file_extension": ".py",
   "mimetype": "text/x-python",
   "name": "python",
   "nbconvert_exporter": "python",
   "pygments_lexer": "ipython3",
   "version": "3.9.12"
  }
 },
 "nbformat": 4,
 "nbformat_minor": 5
}
