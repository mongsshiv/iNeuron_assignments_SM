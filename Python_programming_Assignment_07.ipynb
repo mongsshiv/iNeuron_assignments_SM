{
 "cells": [
  {
   "cell_type": "markdown",
   "id": "b27d385c-c054-471c-8918-936bb138dd7d",
   "metadata": {},
   "source": [
    "# 1. Write a Python Program to find sum of array?"
   ]
  },
  {
   "cell_type": "code",
   "execution_count": 1,
   "id": "c828da41-3c27-47df-89f2-8ca05ce9c80c",
   "metadata": {},
   "outputs": [
    {
     "name": "stdout",
     "output_type": "stream",
     "text": [
      "sum of array is equals to  15\n"
     ]
    }
   ],
   "source": [
    "def sum_arr():\n",
    "    arr = [1,2,3,4,5]\n",
    "    summ = 0\n",
    "    for i in arr:\n",
    "        summ = summ + i\n",
    "        \n",
    "    print(\"sum of array is equals to \", summ)\n",
    "\n",
    "sum_arr()"
   ]
  },
  {
   "cell_type": "code",
   "execution_count": 9,
   "id": "91d2c2b8-6c00-40a6-9d7f-240f1973dd8a",
   "metadata": {},
   "outputs": [
    {
     "name": "stdout",
     "output_type": "stream",
     "text": [
      "15\n"
     ]
    }
   ],
   "source": [
    "# Using lambda method:\n",
    "from functools import reduce\n",
    "l = [1,2,3,4,5]\n",
    "n = reduce(lambda a, b: a + b, l)\n",
    "print(n)"
   ]
  },
  {
   "cell_type": "markdown",
   "id": "cc439c56-26ef-426e-941c-9ceb0264dec4",
   "metadata": {},
   "source": [
    "# 2. Write a Python Program to find largest element in an array?"
   ]
  },
  {
   "cell_type": "code",
   "execution_count": 12,
   "id": "bd58315b-7f40-4f0f-bb7c-de76c1f82a2b",
   "metadata": {},
   "outputs": [
    {
     "name": "stdout",
     "output_type": "stream",
     "text": [
      "34\n"
     ]
    }
   ],
   "source": [
    "def larg_arr():\n",
    "    l = [2,34,5,6]\n",
    "    n = max(l)\n",
    "    print(n)\n",
    "    \n",
    "larg_arr()\n"
   ]
  },
  {
   "cell_type": "markdown",
   "id": "d5db31b8-d336-4418-9e83-8963d678f840",
   "metadata": {},
   "source": [
    "# 3. Write a Python Program for array rotation?"
   ]
  },
  {
   "cell_type": "code",
   "execution_count": 18,
   "id": "f06fdcbc-ecaa-468b-8520-34d47f92fd57",
   "metadata": {},
   "outputs": [
    {
     "name": "stdout",
     "output_type": "stream",
     "text": [
      "[5, 4, 3, 2, 1]\n"
     ]
    }
   ],
   "source": [
    "l = [1,2,3,4,5]\n",
    "l2 = l[-1:-100:-1]\n",
    "print(l2)"
   ]
  },
  {
   "cell_type": "markdown",
   "id": "b2b91007-3a24-4e32-83ed-4eb189226b64",
   "metadata": {},
   "source": [
    "# 4. Write a Python Program to Split the array and add the first part to the end?"
   ]
  },
  {
   "cell_type": "code",
   "execution_count": 24,
   "id": "41d978e0-f0ff-4d95-8584-f78ba680a7e2",
   "metadata": {},
   "outputs": [
    {
     "name": "stdout",
     "output_type": "stream",
     "text": [
      "[1, 2, 3, 4, 5]\n",
      "[6, 7, 8, 9, 10, 1, 2, 3, 4, 5]\n"
     ]
    }
   ],
   "source": [
    "l = [1,2,3,4,5,6,7,8,9,10]\n",
    "#splitting from index 4\n",
    "l2 = l[0:5:1]\n",
    "print(l2)\n",
    "l3 = l[5:10 + 1: 1]\n",
    "l4 = l3 + l2\n",
    "print(l4)\n",
    "   "
   ]
  },
  {
   "cell_type": "markdown",
   "id": "f00a2c47-c29e-440a-af9a-7d6fc1c1c7d5",
   "metadata": {},
   "source": [
    "# 5. Write a Python Program to check if given array is Monotonic?"
   ]
  },
  {
   "cell_type": "code",
   "execution_count": 32,
   "id": "877fc709-76c7-4abc-93c9-c39a8739620e",
   "metadata": {},
   "outputs": [
    {
     "name": "stdout",
     "output_type": "stream",
     "text": [
      "Simple Array, non-monotonous\n"
     ]
    }
   ],
   "source": [
    "l = [2,3,4,1,3,4,5]\n",
    "if l == l.sort:\n",
    "    print(\"monotonic\")\n",
    "else:\n",
    "    print(\"Simple Array, non-monotonous\")\n",
    "    \n"
   ]
  }
 ],
 "metadata": {
  "kernelspec": {
   "display_name": "Python 3 (ipykernel)",
   "language": "python",
   "name": "python3"
  },
  "language_info": {
   "codemirror_mode": {
    "name": "ipython",
    "version": 3
   },
   "file_extension": ".py",
   "mimetype": "text/x-python",
   "name": "python",
   "nbconvert_exporter": "python",
   "pygments_lexer": "ipython3",
   "version": "3.10.6"
  }
 },
 "nbformat": 4,
 "nbformat_minor": 5
}
