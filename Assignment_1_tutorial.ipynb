{
 "cells": [
  {
   "cell_type": "markdown",
   "id": "1cb75e97",
   "metadata": {},
   "source": [
    "# 1. Take input A and B and print their sum, mul, div, square of the nos."
   ]
  },
  {
   "cell_type": "code",
   "execution_count": 1,
   "id": "ba70507d",
   "metadata": {},
   "outputs": [
    {
     "name": "stdout",
     "output_type": "stream",
     "text": [
      "num1: 45\n",
      "num2: 5\n",
      "sum of a and b is: 50\n",
      "multiplication of a and b is: 225\n",
      "division of a and b is: 9.0\n",
      "square of a is: 2025 and of b is: 25\n"
     ]
    }
   ],
   "source": [
    "a=int(input(\"num1: \"))\n",
    "b= int(input(\"num2: \" ))\n",
    "c= a + b\n",
    "d= a*b\n",
    "e=a/b\n",
    "f=a**2\n",
    "g=b**2\n",
    "print(f\"sum of a and b is: {c}\")\n",
    "print(f\"multiplication of a and b is: {d}\")\n",
    "print(f\"division of a and b is: {e}\")\n",
    "print(f\"square of a is: {f} and of b is: {g}\")"
   ]
  },
  {
   "cell_type": "markdown",
   "id": "976fa8a1",
   "metadata": {},
   "source": [
    "# 2. How many reserve keywords are there in python and why we should not use them as a variable name?\n"
   ]
  },
  {
   "cell_type": "code",
   "execution_count": 2,
   "id": "0dd9226a",
   "metadata": {},
   "outputs": [],
   "source": [
    "# There are approx. 33 reserved keywords in Python, namely: \n",
    "# False, True, def, print, del, break, end, if, else, import, return, input, try, while, yield, with, in, is, lambda, nonlocal,not, or, pass, elif, except, finally, for, from, global,None, and, as, assert, class, continue\n",
    "# We should avoid using these reserved words for defining variable or class or function because these keywords are use for syntax and when we are using these same words in defining the variables or so, it might be confusing for us to differentiate between the variable with the syntax while writing huge codes for big projects and the possibility for the occurance of error increases. "
   ]
  },
  {
   "cell_type": "markdown",
   "id": "5f7612f0",
   "metadata": {},
   "source": [
    "# 3. Create email ids with the user inputs. in the following format -  lastname.firstname@gmail.com"
   ]
  },
  {
   "cell_type": "code",
   "execution_count": 3,
   "id": "8d5f0b39",
   "metadata": {},
   "outputs": [
    {
     "name": "stdout",
     "output_type": "stream",
     "text": [
      "enter your firstnameshivani\n",
      "enter your surnamemongs\n",
      "mongs.shivani@gmail.com\n"
     ]
    }
   ],
   "source": [
    "firstName = input(\"enter your firstname\")\n",
    "surName = input(\"enter your surname\")\n",
    "print(f\"{surName}.{firstName}@gmail.com\")"
   ]
  },
  {
   "cell_type": "markdown",
   "id": "f9b5710d",
   "metadata": {},
   "source": [
    "# 4. Try to print the following lines - \"Hi I'm Sunny\", \"My address is 22\\3 \", \"I earn 20$ daily\""
   ]
  },
  {
   "cell_type": "code",
   "execution_count": 4,
   "id": "a37db318",
   "metadata": {},
   "outputs": [
    {
     "name": "stdout",
     "output_type": "stream",
     "text": [
      "Hi I'm Sunny\n",
      "My address is 22\u0003\n",
      "I earn 20$ daily\n"
     ]
    }
   ],
   "source": [
    "print(\"Hi I'm Sunny\")\n",
    "print(\"My address is 22\\3\")\n",
    "print(\"I earn 20$ daily\")"
   ]
  },
  {
   "cell_type": "markdown",
   "id": "a17eaed6",
   "metadata": {},
   "source": [
    "# 5. Take user input (name, address, date of birth etc) to fill a form for your college and print their email IDs"
   ]
  },
  {
   "cell_type": "code",
   "execution_count": 5,
   "id": "7cbb5140",
   "metadata": {},
   "outputs": [
    {
     "name": "stdout",
     "output_type": "stream",
     "text": [
      "Name: shivani mongs\n",
      "Father name: R.P.mongs\n",
      "Mother name: Babita Mongs\n",
      "Full Address: Roorkee, UK\n",
      "DOB: 27 may 1995\n",
      "School Name: Montfort School\n",
      "enter the country of the school: India\n",
      "enter the State of the school: Roorkee\n",
      "percentage of class12th: 91.4\n",
      "Subjects of class12th: PCMB\n",
      "Branch preference No. 1: Mechanical\n",
      "Branch preference No. 2: electrical\n",
      "Branch preference No. 3: CS\n"
     ]
    }
   ],
   "source": [
    "Name= input(\"Name: \")\n",
    "Father_name= input(\"Father name: \")\n",
    "Mother_name= input(\"Mother name: \")\n",
    "Address= input(\"Full Address: \")\n",
    "Date_of_Birth= input(\"DOB: \")\n",
    "school= input(\"School Name: \")\n",
    "country_of_School= input(\"enter the country of the school: \")\n",
    "state_of_School= input(\"enter the State of the school: \")\n",
    "percentage_class12th= input(\"percentage of class12th: \")\n",
    "subjects_class12th= input(\"Subjects of class12th: \") \n",
    "Branch_preference_1= input(\"Branch preference No. 1: \") \n",
    "Branch_preference_2= input(\"Branch preference No. 2: \") \n",
    "Branch_preference_3= input(\"Branch preference No. 3: \") "
   ]
  },
  {
   "cell_type": "code",
   "execution_count": 7,
   "id": "b894e2f0",
   "metadata": {},
   "outputs": [
    {
     "name": "stdout",
     "output_type": "stream",
     "text": [
      "Name: shivani mongs\n",
      "\n",
      "Father name: R.P.mongs\n",
      "\n",
      "Mother name: Babita Mongs\n",
      "\n",
      "Full Address: Roorkee, UK\n",
      "\n",
      "DOB:27 may 1995\n",
      "\n",
      "School Name: Montfort School\n",
      "\n",
      "enter the country of the school: India\n",
      "\n",
      "enter the State of the school: Roorkee\n",
      "\n",
      "percentage of class12th: 91.4\n",
      "\n",
      "Subjects of class12th: PCMB\n",
      "\n",
      "Branch preference No. 1: Mechanical\n",
      "\n",
      "Branch preference No. 2: electrical\n",
      "\n",
      "Branch preference No. 3: CS\n"
     ]
    }
   ],
   "source": [
    "print(f\"\"\"Name: {Name}\n",
    "\n",
    "Father name: {Father_name}\n",
    "\n",
    "Mother name: {Mother_name}\n",
    "\n",
    "Full Address: {Address}\n",
    "\n",
    "DOB:{Date_of_Birth}\n",
    "\n",
    "School Name: {school}\n",
    "\n",
    "enter the country of the school: {country_of_School}\n",
    "\n",
    "enter the State of the school: {state_of_School}\n",
    "\n",
    "percentage of class12th: {percentage_class12th}\n",
    "\n",
    "Subjects of class12th: {subjects_class12th}\n",
    "\n",
    "Branch preference No. 1: {Branch_preference_1}\n",
    "\n",
    "Branch preference No. 2: {Branch_preference_2}\n",
    "\n",
    "Branch preference No. 3: {Branch_preference_3}\"\"\")"
   ]
  },
  {
   "cell_type": "markdown",
   "id": "52ca34e9",
   "metadata": {},
   "source": [
    "# 6. Convert the following - \n",
    "  - \"22.4\" into integer\n",
    "  - \"22\" into complex no."
   ]
  },
  {
   "cell_type": "code",
   "execution_count": 8,
   "id": "d62a2898",
   "metadata": {},
   "outputs": [
    {
     "name": "stdout",
     "output_type": "stream",
     "text": [
      "22\n"
     ]
    }
   ],
   "source": [
    "a=22.4\n",
    "a=int(a)\n",
    "print(a)"
   ]
  },
  {
   "cell_type": "code",
   "execution_count": 9,
   "id": "914262f4",
   "metadata": {},
   "outputs": [
    {
     "name": "stdout",
     "output_type": "stream",
     "text": [
      "(22+0j)\n"
     ]
    }
   ],
   "source": [
    "a=22\n",
    "a=complex(a)\n",
    "print(a)"
   ]
  },
  {
   "cell_type": "code",
   "execution_count": null,
   "id": "957c493e",
   "metadata": {},
   "outputs": [],
   "source": []
  }
 ],
 "metadata": {
  "kernelspec": {
   "display_name": "Python 3 (ipykernel)",
   "language": "python",
   "name": "python3"
  },
  "language_info": {
   "codemirror_mode": {
    "name": "ipython",
    "version": 3
   },
   "file_extension": ".py",
   "mimetype": "text/x-python",
   "name": "python",
   "nbconvert_exporter": "python",
   "pygments_lexer": "ipython3",
   "version": "3.9.12"
  }
 },
 "nbformat": 4,
 "nbformat_minor": 5
}
