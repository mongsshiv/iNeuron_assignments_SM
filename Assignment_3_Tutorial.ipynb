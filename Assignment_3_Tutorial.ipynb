{
 "cells": [
  {
   "cell_type": "markdown",
   "id": "36363623",
   "metadata": {},
   "source": [
    "# 1. Count the number of times iNeuron appears in the string?\n"
   ]
  },
  {
   "cell_type": "code",
   "execution_count": 1,
   "id": "62affcf0",
   "metadata": {},
   "outputs": [],
   "source": [
    "text = \"Welcome to iNeuron, You are a part of FSDS Bootcamp 2 in iNeuron. I hope you are enjoying the course by iNeuron\""
   ]
  },
  {
   "cell_type": "code",
   "execution_count": 2,
   "id": "cde92bc9",
   "metadata": {},
   "outputs": [
    {
     "data": {
      "text/plain": [
       "3"
      ]
     },
     "execution_count": 2,
     "metadata": {},
     "output_type": "execute_result"
    }
   ],
   "source": [
    "text.count(\"iNeuron\")"
   ]
  },
  {
   "cell_type": "markdown",
   "id": "91b2f2aa",
   "metadata": {},
   "source": [
    "# 2. Check if position 5 to 11 ends with the phrase iNeuron. in the string?"
   ]
  },
  {
   "cell_type": "code",
   "execution_count": 3,
   "id": "95d54ccf",
   "metadata": {},
   "outputs": [],
   "source": [
    "txt = \"Hello, welcome to FSDS 2.0 at iNeuron.\""
   ]
  },
  {
   "cell_type": "code",
   "execution_count": 4,
   "id": "7c4bbf61",
   "metadata": {},
   "outputs": [
    {
     "data": {
      "text/plain": [
       "False"
      ]
     },
     "execution_count": 4,
     "metadata": {},
     "output_type": "execute_result"
    }
   ],
   "source": [
    "\"iNeuron\" in txt[5:11]"
   ]
  },
  {
   "cell_type": "markdown",
   "id": "1f52ffd1",
   "metadata": {},
   "source": [
    "# 3. Write a program that takes your full name as input and displays the abbreviations of the first and middle names except the last name which is displayed as it is. For example, if your name is Sunny Bhaveen Chandra, then the output should be S.B.Chandra."
   ]
  },
  {
   "cell_type": "code",
   "execution_count": 9,
   "id": "b8734bb8",
   "metadata": {},
   "outputs": [
    {
     "name": "stdout",
     "output_type": "stream",
     "text": [
      "firstname: shiv\n",
      "middle_namebab\n",
      "last_namemongs\n",
      "s.b.mongs\n"
     ]
    }
   ],
   "source": [
    "first_name = input(\"firstname: \")\n",
    "middle_name = input(\"middle_name\")\n",
    "last_name = input(\"last_name\")\n",
    "l= [first_name, middle_name, last_name]\n",
    "print(f\"{l[0][0]}.{l[1][0]}.{l[2]}\")"
   ]
  },
  {
   "cell_type": "markdown",
   "id": "de204fa0",
   "metadata": {},
   "source": [
    "# 4. Join all items in a list into a string, using a hash(#) character as separator:"
   ]
  },
  {
   "cell_type": "code",
   "execution_count": 4,
   "id": "10bfaae6",
   "metadata": {},
   "outputs": [
    {
     "data": {
      "text/plain": [
       "'My#name#is#Rishav#Dash'"
      ]
     },
     "execution_count": 4,
     "metadata": {},
     "output_type": "execute_result"
    }
   ],
   "source": [
    "LIST = [\"My\", \"name\", \"is\", \"Rishav\", \"Dash\"]\n",
    "str1 = \"My name is Rishav Dash\"\n",
    "str1.replace(\" \", \"#\")"
   ]
  },
  {
   "cell_type": "markdown",
   "id": "5d6dcc36",
   "metadata": {},
   "source": [
    "# 5. Write example for the following string manipulation function: \n",
    "- isdecimal()\n",
    "- islower()\n",
    "- isupper()\n",
    "- isalpha()\n",
    "- isnumeric()"
   ]
  },
  {
   "cell_type": "code",
   "execution_count": 5,
   "id": "92e91e07",
   "metadata": {},
   "outputs": [
    {
     "data": {
      "text/plain": [
       "False"
      ]
     },
     "execution_count": 5,
     "metadata": {},
     "output_type": "execute_result"
    }
   ],
   "source": [
    "str1 = \"GAPCM246532X.76876 vhg\"\n",
    "str1.isdecimal()"
   ]
  },
  {
   "cell_type": "code",
   "execution_count": 6,
   "id": "e193bcd2",
   "metadata": {},
   "outputs": [
    {
     "data": {
      "text/plain": [
       "False"
      ]
     },
     "execution_count": 6,
     "metadata": {},
     "output_type": "execute_result"
    }
   ],
   "source": [
    "str1 = \"GAPCM246532X.76876 vhg\"\n",
    "str1.islower()"
   ]
  },
  {
   "cell_type": "code",
   "execution_count": 8,
   "id": "b696638c",
   "metadata": {},
   "outputs": [
    {
     "data": {
      "text/plain": [
       "False"
      ]
     },
     "execution_count": 8,
     "metadata": {},
     "output_type": "execute_result"
    }
   ],
   "source": [
    "str1 = \"GAPCM246532X.76876 vhg\"\n",
    "str1.isupper()"
   ]
  },
  {
   "cell_type": "code",
   "execution_count": 9,
   "id": "d271e69f",
   "metadata": {},
   "outputs": [
    {
     "data": {
      "text/plain": [
       "False"
      ]
     },
     "execution_count": 9,
     "metadata": {},
     "output_type": "execute_result"
    }
   ],
   "source": [
    "str1 = \"GAPCM246532X.76876 vhg\"\n",
    "str1.isalpha()"
   ]
  },
  {
   "cell_type": "code",
   "execution_count": 10,
   "id": "d6a7fe64",
   "metadata": {},
   "outputs": [
    {
     "data": {
      "text/plain": [
       "False"
      ]
     },
     "execution_count": 10,
     "metadata": {},
     "output_type": "execute_result"
    }
   ],
   "source": [
    "str1 = \"GAPCM246532X.76876 vhg\"\n",
    "str1.isnumeric()"
   ]
  },
  {
   "cell_type": "code",
   "execution_count": null,
   "id": "2d2012dc",
   "metadata": {},
   "outputs": [],
   "source": [
    "LIST = [\"My\", \"name\", \"is\", \"Rishav\", \"Dash\"]\n",
    "str1 = "
   ]
  },
  {
   "cell_type": "markdown",
   "id": "6ae4a4de",
   "metadata": {},
   "source": [
    "# 6. Indian PAN card format follows the following formats -\n",
    "\n",
    "AYEPC7894X\n",
    "ABCDE9999Y Take user input for PAN_CARD and validate as per the above example."
   ]
  },
  {
   "cell_type": "code",
   "execution_count": 2,
   "id": "b5f1f69f",
   "metadata": {},
   "outputs": [
    {
     "name": "stdout",
     "output_type": "stream",
     "text": [
      "enter PAN Number: mongs2345r\n",
      "PAN_NUMBER: mongs2345r is correct\n"
     ]
    }
   ],
   "source": [
    "PAN_NUMBER= input(\"enter PAN Number: \")\n",
    "if PAN_NUMBER[0:5].isalpha() and PAN_NUMBER[5:9].isdigit() and PAN_NUMBER[9].isalpha():\n",
    "    print(f\"PAN_NUMBER: {PAN_NUMBER} is correct\")\n",
    "else:\n",
    "    print(f\"{PAN_NUMBER} is invalid\")"
   ]
  }
 ],
 "metadata": {
  "kernelspec": {
   "display_name": "Python 3 (ipykernel)",
   "language": "python",
   "name": "python3"
  },
  "language_info": {
   "codemirror_mode": {
    "name": "ipython",
    "version": 3
   },
   "file_extension": ".py",
   "mimetype": "text/x-python",
   "name": "python",
   "nbconvert_exporter": "python",
   "pygments_lexer": "ipython3",
   "version": "3.9.12"
  }
 },
 "nbformat": 4,
 "nbformat_minor": 5
}
