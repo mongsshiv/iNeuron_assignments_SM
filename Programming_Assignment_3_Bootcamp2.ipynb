{
 "cells": [
  {
   "cell_type": "markdown",
   "id": "c56dca8d",
   "metadata": {},
   "source": [
    "# 1. Write a Python Program to Check if a Number is Positive, Negative or Zero?"
   ]
  },
  {
   "cell_type": "code",
   "execution_count": 1,
   "id": "23ee0c16",
   "metadata": {},
   "outputs": [
    {
     "name": "stdout",
     "output_type": "stream",
     "text": [
      "enter a number: 7\n",
      "a is positive\n"
     ]
    }
   ],
   "source": [
    "a = float(input(\"enter a number: \"))\n",
    "if a == 0:\n",
    "    print(\"a is 0\")\n",
    "elif a<0:\n",
    "    print(\"a is negative\")\n",
    "elif a>0:\n",
    "    print(\"a is positive\")"
   ]
  },
  {
   "cell_type": "markdown",
   "id": "e36ddcfc",
   "metadata": {},
   "source": [
    "# 2. Write a Python Program to Check if a Number is Odd or Even?"
   ]
  },
  {
   "cell_type": "code",
   "execution_count": 2,
   "id": "7e519bd4",
   "metadata": {
    "scrolled": true
   },
   "outputs": [
    {
     "name": "stdout",
     "output_type": "stream",
     "text": [
      "enter a number: 78\n",
      "a is even\n"
     ]
    }
   ],
   "source": [
    "a = float(input(\"enter a number: \"))\n",
    "if a%2==0:\n",
    "    print(\"a is even\")\n",
    "else:\n",
    "    print(\"a is odd\")"
   ]
  },
  {
   "cell_type": "markdown",
   "id": "6cc513b8",
   "metadata": {},
   "source": [
    "# 3. Write a Python Program to Check Leap Year?"
   ]
  },
  {
   "cell_type": "code",
   "execution_count": 3,
   "id": "5ce0cc22",
   "metadata": {},
   "outputs": [
    {
     "name": "stdout",
     "output_type": "stream",
     "text": [
      "enter a year: 2023\n",
      "it's not a leap year\n"
     ]
    }
   ],
   "source": [
    "year = int(input(\"enter a year: \"))\n",
    "if year%4==0 and year%100==0:\n",
    "    print(year, \" a leap year\")\n",
    "else:\n",
    "    print(\"it's not a leap year\")"
   ]
  },
  {
   "cell_type": "markdown",
   "id": "301b6452",
   "metadata": {},
   "source": [
    "# 4. Write a Python Program to Check Prime Number?"
   ]
  },
  {
   "cell_type": "code",
   "execution_count": 12,
   "id": "580e67a3",
   "metadata": {},
   "outputs": [
    {
     "name": "stdout",
     "output_type": "stream",
     "text": [
      "It's a prime no.\n"
     ]
    }
   ],
   "source": [
    "n = 29\n",
    "\n",
    "\n",
    "for i in range(2,n):\n",
    "    if n%i==0:\n",
    "        break\n",
    "else:\n",
    "    print(\"It's a prime no.\")\n"
   ]
  },
  {
   "cell_type": "markdown",
   "id": "6420c6ae",
   "metadata": {},
   "source": [
    "# 5. Write a Python Program to Print all Prime Numbers in an Interval of 1-10000?"
   ]
  },
  {
   "cell_type": "code",
   "execution_count": 8,
   "id": "3df6e33e",
   "metadata": {},
   "outputs": [
    {
     "name": "stdout",
     "output_type": "stream",
     "text": [
      "list of prime numbers is as follows: \n",
      "2\n",
      "3\n",
      "5\n",
      "7\n",
      "11\n",
      "13\n",
      "17\n",
      "19\n"
     ]
    }
   ],
   "source": [
    "print(\"list of prime numbers is as follows: \")\n",
    "for num in range(1, 21):\n",
    "    if num > 1:\n",
    "        for i in range(2, num):\n",
    "            if num%i==0:\n",
    "                break\n",
    "        else:\n",
    "            print(num)"
   ]
  },
  {
   "cell_type": "code",
   "execution_count": null,
   "id": "551cec7a",
   "metadata": {},
   "outputs": [],
   "source": []
  }
 ],
 "metadata": {
  "kernelspec": {
   "display_name": "Python 3 (ipykernel)",
   "language": "python",
   "name": "python3"
  },
  "language_info": {
   "codemirror_mode": {
    "name": "ipython",
    "version": 3
   },
   "file_extension": ".py",
   "mimetype": "text/x-python",
   "name": "python",
   "nbconvert_exporter": "python",
   "pygments_lexer": "ipython3",
   "version": "3.9.12"
  }
 },
 "nbformat": 4,
 "nbformat_minor": 5
}
