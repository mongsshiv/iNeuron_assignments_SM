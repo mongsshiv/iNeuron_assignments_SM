{
 "cells": [
  {
   "cell_type": "markdown",
   "id": "9ca065e5",
   "metadata": {},
   "source": [
    "# 1. Write a Python program to convert kilometers to miles?"
   ]
  },
  {
   "cell_type": "code",
   "execution_count": 5,
   "id": "f7d3630a",
   "metadata": {},
   "outputs": [
    {
     "name": "stdout",
     "output_type": "stream",
     "text": [
      "10 km is equal to 6.21 miles\n"
     ]
    }
   ],
   "source": [
    "km = 10\n",
    "print(km, \"km is equal to\" , 0.621*km , \"miles\")"
   ]
  },
  {
   "cell_type": "markdown",
   "id": "0f40ac30",
   "metadata": {},
   "source": [
    "# 2. Write a Python program to convert Celsius to Fahrenheit?"
   ]
  },
  {
   "cell_type": "code",
   "execution_count": 9,
   "id": "6ff6f113",
   "metadata": {},
   "outputs": [
    {
     "name": "stdout",
     "output_type": "stream",
     "text": [
      "20 degree C = 70 degree Fahrenheit\n"
     ]
    }
   ],
   "source": [
    "c = 20\n",
    "print(c, \"degree C =\", 2*c + 30,\"degree Fahrenheit\")"
   ]
  },
  {
   "cell_type": "markdown",
   "id": "5c615c3a",
   "metadata": {},
   "source": [
    "# 3. Write a Python program to display calendar?"
   ]
  },
  {
   "cell_type": "code",
   "execution_count": 11,
   "id": "ff0e5acf",
   "metadata": {},
   "outputs": [
    {
     "name": "stdout",
     "output_type": "stream",
     "text": [
      "     March 2023\n",
      "Mo Tu We Th Fr Sa Su\n",
      "       1  2  3  4  5\n",
      " 6  7  8  9 10 11 12\n",
      "13 14 15 16 17 18 19\n",
      "20 21 22 23 24 25 26\n",
      "27 28 29 30 31\n",
      "\n"
     ]
    }
   ],
   "source": [
    "import calendar\n",
    "yy = 2023\n",
    "mm = 3\n",
    "print(calendar.month(yy,mm))"
   ]
  },
  {
   "cell_type": "code",
   "execution_count": 12,
   "id": "98cbd244",
   "metadata": {},
   "outputs": [
    {
     "name": "stdout",
     "output_type": "stream",
     "text": [
      "   February 2023\n",
      "Mo Tu We Th Fr Sa Su\n",
      "       1  2  3  4  5\n",
      " 6  7  8  9 10 11 12\n",
      "13 14 15 16 17 18 19\n",
      "20 21 22 23 24 25 26\n",
      "27 28\n",
      "\n"
     ]
    }
   ],
   "source": [
    "import calendar\n",
    "yy = 2023\n",
    "mm = 2\n",
    "print(calendar.month(yy,mm))"
   ]
  },
  {
   "cell_type": "code",
   "execution_count": 14,
   "id": "7798e2fa",
   "metadata": {},
   "outputs": [
    {
     "name": "stdout",
     "output_type": "stream",
     "text": [
      "<bound method TextCalendar.formatmonth of <calendar.TextCalendar object at 0x000001FE737C5DF0>>\n"
     ]
    }
   ],
   "source": [
    "import calendar\n",
    "yy = 2023\n",
    "mm = 6\n",
    "print(calendar.month)"
   ]
  },
  {
   "cell_type": "markdown",
   "id": "542f0d6e",
   "metadata": {},
   "source": [
    "# 4. Write a Python program to solve quadratic equation?"
   ]
  },
  {
   "cell_type": "code",
   "execution_count": 19,
   "id": "62b893cb",
   "metadata": {},
   "outputs": [
    {
     "name": "stdout",
     "output_type": "stream",
     "text": [
      "4.898979485566356\n",
      "value of x=  -0.7752551286084111\n"
     ]
    }
   ],
   "source": [
    "a = 2\n",
    "b = 8\n",
    "c = 5\n",
    "d = ((b**2) - (4*a*c))**(1/2)\n",
    "print(d)\n",
    "print(\"value of x= \", (-b + d)/(2*a))"
   ]
  },
  {
   "cell_type": "markdown",
   "id": "92808511",
   "metadata": {},
   "source": [
    "# 5. Write a Python program to swap two variables without temp variable?"
   ]
  },
  {
   "cell_type": "code",
   "execution_count": 23,
   "id": "718b71fa",
   "metadata": {},
   "outputs": [
    {
     "name": "stdout",
     "output_type": "stream",
     "text": [
      "x=  5\n",
      "y=  4\n"
     ]
    }
   ],
   "source": [
    "x = 4\n",
    "y = 5\n",
    "x = x + y #9\n",
    "y = x - y #4\n",
    "x = x - y #4\n",
    "\n",
    "print(\"x = \", x)\n",
    "print(\"y = \", y)"
   ]
  }
 ],
 "metadata": {
  "kernelspec": {
   "display_name": "Python 3 (ipykernel)",
   "language": "python",
   "name": "python3"
  },
  "language_info": {
   "codemirror_mode": {
    "name": "ipython",
    "version": 3
   },
   "file_extension": ".py",
   "mimetype": "text/x-python",
   "name": "python",
   "nbconvert_exporter": "python",
   "pygments_lexer": "ipython3",
   "version": "3.9.12"
  }
 },
 "nbformat": 4,
 "nbformat_minor": 5
}
