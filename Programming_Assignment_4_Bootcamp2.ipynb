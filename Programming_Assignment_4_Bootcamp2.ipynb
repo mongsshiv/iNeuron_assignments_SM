{
 "cells": [
  {
   "cell_type": "markdown",
   "id": "9b308257",
   "metadata": {},
   "source": [
    "# 1. Write a Python Program to Find the Factorial of a Number?"
   ]
  },
  {
   "cell_type": "code",
   "execution_count": 15,
   "id": "ac2f8092",
   "metadata": {},
   "outputs": [
    {
     "name": "stdout",
     "output_type": "stream",
     "text": [
      "enter any natural number: 5\n",
      "1\n",
      "2\n",
      "6\n",
      "24\n",
      "120\n",
      "factorail of number, n =  120\n"
     ]
    }
   ],
   "source": [
    "n = int(input(\"enter any natural number: \"))\n",
    "i = 1\n",
    "a = 1\n",
    "while i<=n:\n",
    "    a= a * i\n",
    "    print(a) #optional\n",
    "    i = i + 1\n",
    "print(\"factorail of number, n = \", a)"
   ]
  },
  {
   "cell_type": "markdown",
   "id": "d802623b",
   "metadata": {},
   "source": [
    "# 2. Write a Python Program to Display the multiplication Table?"
   ]
  },
  {
   "cell_type": "code",
   "execution_count": 17,
   "id": "8f787a27",
   "metadata": {},
   "outputs": [
    {
     "name": "stdout",
     "output_type": "stream",
     "text": [
      "enter any natural number: 5\n",
      "5 x 1=  5\n",
      "5 x 2=  10\n",
      "5 x 3=  15\n",
      "5 x 4=  20\n",
      "5 x 5=  25\n",
      "5 x 6=  30\n",
      "5 x 7=  35\n",
      "5 x 8=  40\n",
      "5 x 9=  45\n",
      "5 x 10=  50\n"
     ]
    }
   ],
   "source": [
    "n = int(input(\"enter any natural number: \"))\n",
    "\n",
    "for i in range(1, 10+1):\n",
    "    print(f\"{n} x {i}= \", n*i)"
   ]
  },
  {
   "cell_type": "markdown",
   "id": "f10eb96c",
   "metadata": {},
   "source": [
    "# 3. Write a Python Program to Print the Fibonacci sequence?"
   ]
  },
  {
   "cell_type": "code",
   "execution_count": 26,
   "id": "41fcf7e5",
   "metadata": {},
   "outputs": [
    {
     "name": "stdout",
     "output_type": "stream",
     "text": [
      "0\n",
      "1\n",
      "1\n",
      "2\n"
     ]
    }
   ],
   "source": [
    "a = 0\n",
    "b = 1\n",
    "c = a + b\n",
    "d = c + b\n",
    "print(a)\n",
    "print(b)\n",
    "print(c)\n",
    "print(d)"
   ]
  },
  {
   "cell_type": "code",
   "execution_count": 25,
   "id": "a4c740cf",
   "metadata": {},
   "outputs": [
    {
     "name": "stdout",
     "output_type": "stream",
     "text": [
      "0\n",
      "1\n",
      "1\n",
      "2\n",
      "3\n",
      "5\n",
      "8\n",
      "13\n",
      "21\n",
      "34\n",
      "55\n",
      "89\n",
      "144\n"
     ]
    }
   ],
   "source": [
    "a = 0\n",
    "b = 1\n",
    "c = 1\n",
    "print(a)\n",
    "print(b)\n",
    "while c<=100:\n",
    "    c = a + b\n",
    "    a = b\n",
    "    b = c\n",
    "    print(c)"
   ]
  },
  {
   "cell_type": "markdown",
   "id": "8d85763f",
   "metadata": {},
   "source": [
    "# 4. Write a Python Program to Check Armstrong Number?"
   ]
  },
  {
   "cell_type": "code",
   "execution_count": 44,
   "id": "01a7bca1",
   "metadata": {},
   "outputs": [
    {
     "name": "stdout",
     "output_type": "stream",
     "text": [
      "enter number: 2\n",
      "2  is an Armstrong number\n"
     ]
    }
   ],
   "source": [
    "num = int(input(\"enter number: \"))\n",
    "order = len(str(num))\n",
    "sum = 0\n",
    "\n",
    "temp = num\n",
    "\n",
    "while temp>0:\n",
    "    a = temp % 10\n",
    "    sum = a**order\n",
    "    temp = temp//10\n",
    "if num == sum:\n",
    "    print(num, \" is an Armstrong number\")\n",
    "else:\n",
    "    print(num, \" is not an Armstrong Number.\" )"
   ]
  },
  {
   "cell_type": "markdown",
   "id": "48b05cf7",
   "metadata": {},
   "source": [
    "# 5. Write a Python Program to Find Armstrong Number in an Interval?"
   ]
  },
  {
   "cell_type": "code",
   "execution_count": 51,
   "id": "6c3c2833",
   "metadata": {},
   "outputs": [
    {
     "name": "stdout",
     "output_type": "stream",
     "text": [
      "enter lower limit of interval: 2\n",
      "enter upper limit of interval: 50\n",
      "2\n",
      "3\n",
      "4\n",
      "5\n",
      "6\n",
      "7\n",
      "8\n",
      "9\n"
     ]
    }
   ],
   "source": [
    "l1 = int(input(\"enter lower limit of interval: \"))\n",
    "l2 = int(input(\"enter upper limit of interval: \"))\n",
    "\n",
    "for num in range(l1, l2 + 1):\n",
    "    order = len(str(num))\n",
    "    summ = 0\n",
    "    a = num\n",
    "    while a>0:\n",
    "        b = a%10\n",
    "        summ = summ + b**order\n",
    "        a = a//10\n",
    "        \n",
    "    if num == summ:\n",
    "        print(num)\n",
    "        \n",
    "    "
   ]
  },
  {
   "cell_type": "markdown",
   "id": "63c28c3a",
   "metadata": {},
   "source": [
    "# 6. Write a Python Program to Find the Sum of Natural Numbers?"
   ]
  },
  {
   "cell_type": "code",
   "execution_count": 52,
   "id": "c05c3822",
   "metadata": {},
   "outputs": [
    {
     "name": "stdout",
     "output_type": "stream",
     "text": [
      "enter number: 5\n",
      "15.0\n"
     ]
    }
   ],
   "source": [
    "#Using Direct formula:\n",
    "num = int(input(\"enter number: \"))\n",
    "sum = (num* (num+1)/2)\n",
    "print(sum)"
   ]
  },
  {
   "cell_type": "code",
   "execution_count": 53,
   "id": "2524c200",
   "metadata": {},
   "outputs": [
    {
     "name": "stdout",
     "output_type": "stream",
     "text": [
      "enter number: 5\n",
      "15\n"
     ]
    }
   ],
   "source": [
    "#Using for loop:\n",
    "num = int(input(\"enter number: \"))\n",
    "a = 0\n",
    "for i in range(1, num+1):\n",
    "    a = a + i\n",
    "\n",
    "print(a)"
   ]
  },
  {
   "cell_type": "code",
   "execution_count": null,
   "id": "77620449",
   "metadata": {},
   "outputs": [],
   "source": []
  }
 ],
 "metadata": {
  "kernelspec": {
   "display_name": "Python 3 (ipykernel)",
   "language": "python",
   "name": "python3"
  },
  "language_info": {
   "codemirror_mode": {
    "name": "ipython",
    "version": 3
   },
   "file_extension": ".py",
   "mimetype": "text/x-python",
   "name": "python",
   "nbconvert_exporter": "python",
   "pygments_lexer": "ipython3",
   "version": "3.9.12"
  }
 },
 "nbformat": 4,
 "nbformat_minor": 5
}
