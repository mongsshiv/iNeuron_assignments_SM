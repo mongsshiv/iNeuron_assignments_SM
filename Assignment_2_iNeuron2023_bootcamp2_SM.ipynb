{
 "cells": [
  {
   "cell_type": "markdown",
   "id": "5711478f",
   "metadata": {},
   "source": [
    "# 1.What are the two values of the Boolean data type? How do you write them?"
   ]
  },
  {
   "cell_type": "code",
   "execution_count": 1,
   "id": "dc8a0110",
   "metadata": {},
   "outputs": [],
   "source": [
    "# True and False"
   ]
  },
  {
   "cell_type": "markdown",
   "id": "655c97b0",
   "metadata": {},
   "source": [
    "# 2. What are the three different types of Boolean operators?"
   ]
  },
  {
   "cell_type": "code",
   "execution_count": 2,
   "id": "874e7fe3",
   "metadata": {},
   "outputs": [],
   "source": [
    "# and , or , not"
   ]
  },
  {
   "cell_type": "markdown",
   "id": "c0d89b71",
   "metadata": {},
   "source": [
    "# 3. Make a list of each Boolean operator&#39;s truth tables (i.e. every possible combination of Boolean values for the operator and what it evaluate)."
   ]
  },
  {
   "cell_type": "code",
   "execution_count": 27,
   "id": "51745367",
   "metadata": {},
   "outputs": [],
   "source": [
    "# for AND: 0 and 0 = 0; 0 and 1 = 0; 1 and 0 = 0; 1 and 1 = 1.\n",
    "# for OR:  0 or  0 = 0; 0 or  1 = 1; 1 or  0 = 1; 1 or  1 = 1. \n",
    "# where, 0 = False and 1 = True."
   ]
  },
  {
   "cell_type": "markdown",
   "id": "468740bb",
   "metadata": {},
   "source": [
    "# 4. What are the values of the following expressions?"
   ]
  },
  {
   "cell_type": "code",
   "execution_count": 4,
   "id": "af24f4f7",
   "metadata": {},
   "outputs": [
    {
     "data": {
      "text/plain": [
       "False"
      ]
     },
     "execution_count": 4,
     "metadata": {},
     "output_type": "execute_result"
    }
   ],
   "source": [
    "(5 > 4) and (3 == 5)"
   ]
  },
  {
   "cell_type": "code",
   "execution_count": 5,
   "id": "c363787a",
   "metadata": {},
   "outputs": [
    {
     "data": {
      "text/plain": [
       "False"
      ]
     },
     "execution_count": 5,
     "metadata": {},
     "output_type": "execute_result"
    }
   ],
   "source": [
    "not (5 > 4)"
   ]
  },
  {
   "cell_type": "code",
   "execution_count": 6,
   "id": "1d833156",
   "metadata": {},
   "outputs": [
    {
     "data": {
      "text/plain": [
       "True"
      ]
     },
     "execution_count": 6,
     "metadata": {},
     "output_type": "execute_result"
    }
   ],
   "source": [
    "(5> 4) or (3 == 5)"
   ]
  },
  {
   "cell_type": "code",
   "execution_count": 7,
   "id": "70c8c189",
   "metadata": {},
   "outputs": [
    {
     "data": {
      "text/plain": [
       "False"
      ]
     },
     "execution_count": 7,
     "metadata": {},
     "output_type": "execute_result"
    }
   ],
   "source": [
    "not ((5 > 4) or (3 == 5))"
   ]
  },
  {
   "cell_type": "code",
   "execution_count": 8,
   "id": "0d52ef1c",
   "metadata": {},
   "outputs": [
    {
     "data": {
      "text/plain": [
       "False"
      ]
     },
     "execution_count": 8,
     "metadata": {},
     "output_type": "execute_result"
    }
   ],
   "source": [
    "(True and True) and (True == False)"
   ]
  },
  {
   "cell_type": "code",
   "execution_count": 9,
   "id": "a2992659",
   "metadata": {},
   "outputs": [
    {
     "data": {
      "text/plain": [
       "True"
      ]
     },
     "execution_count": 9,
     "metadata": {},
     "output_type": "execute_result"
    }
   ],
   "source": [
    "(not False) or (not True)"
   ]
  },
  {
   "cell_type": "markdown",
   "id": "5bdd63c4",
   "metadata": {},
   "source": [
    "# 5. What are the six comparison operators?"
   ]
  },
  {
   "cell_type": "code",
   "execution_count": 10,
   "id": "356d1f24",
   "metadata": {},
   "outputs": [],
   "source": [
    "#1.\"==\"\n",
    "#2. \">\"\n",
    "#3. \"<\"\n",
    "#4. \">=\"\n",
    "#5. \"<=\"\n",
    "#6. \"!=\""
   ]
  },
  {
   "cell_type": "markdown",
   "id": "bdb25378",
   "metadata": {},
   "source": [
    "# 6. How do you tell the difference between the equal to and assignment operators?Describe a condition and when you would use one."
   ]
  },
  {
   "cell_type": "code",
   "execution_count": 11,
   "id": "9cb256e7",
   "metadata": {},
   "outputs": [
    {
     "data": {
      "text/plain": [
       "False"
      ]
     },
     "execution_count": 11,
     "metadata": {},
     "output_type": "execute_result"
    }
   ],
   "source": [
    "# \"Equals to\": it defines the values, LHS and RHS, both being equal to each other. eg. 2 = even, 2*3 = 6, 4*2 = 8; whereas\n",
    "# In operators, the \"equals to\" is use with condition for comparison, like, if we are comparing whether LHS is equal to RHS then output is True.\n",
    "# eg.\"==\" \n",
    "2==3\n",
    "# above example asks 'whether 2 is equal to 3'. Since it's not true, therefore result should be False."
   ]
  },
  {
   "cell_type": "code",
   "execution_count": 12,
   "id": "2c33444e",
   "metadata": {},
   "outputs": [
    {
     "data": {
      "text/plain": [
       "True"
      ]
     },
     "execution_count": 12,
     "metadata": {},
     "output_type": "execute_result"
    }
   ],
   "source": [
    "#eg. for \"!=\":\n",
    "2!=4\n",
    "# above example asks whether the condition is true or not, 'whether 2 is not equals to 4' or not. Since it is true, therefore, result should be True."
   ]
  },
  {
   "cell_type": "markdown",
   "id": "67824398",
   "metadata": {},
   "source": [
    "# 7. Identify the three blocks in this code:"
   ]
  },
  {
   "cell_type": "code",
   "execution_count": 13,
   "id": "9cb278a5",
   "metadata": {},
   "outputs": [
    {
     "name": "stdout",
     "output_type": "stream",
     "text": [
      "ham\n",
      "spam\n",
      "spam\n"
     ]
    }
   ],
   "source": [
    "spam = 0\n",
    "if spam == 10:\n",
    "    print(\"eggs\")\n",
    "if spam>5:\n",
    "    print(\"bacon\")\n",
    "else:\n",
    "    print(\"ham\")\n",
    "    print('spam')\n",
    "    print(\"spam\")"
   ]
  },
  {
   "cell_type": "code",
   "execution_count": 14,
   "id": "bcd7cf55",
   "metadata": {},
   "outputs": [],
   "source": [
    "# three blocks are: \n",
    "# 1. if spam == 10:\n",
    "    #print(\"eggs\")\n",
    "# 2. if spam>5:\n",
    "    #print(\"bacon\")\n",
    "# 3. else:\n",
    "    #print(\"ham\")\n",
    "    #print('spam')\n",
    "    #print(\"spam\")"
   ]
  },
  {
   "cell_type": "markdown",
   "id": "5094d603",
   "metadata": {},
   "source": [
    "# 8. Write code that prints Hello if 1 is stored in spam, prints Howdy if 2 is stored in spam, and prints Greetings! if anything else is stored in spam."
   ]
  },
  {
   "cell_type": "code",
   "execution_count": 15,
   "id": "12776153",
   "metadata": {},
   "outputs": [
    {
     "name": "stdout",
     "output_type": "stream",
     "text": [
      "Greetings!\n"
     ]
    }
   ],
   "source": [
    "spam = 0\n",
    "if spam == 1:\n",
    "    print(\"Hello\")\n",
    "if spam>2:\n",
    "    print(\"Howdy\")\n",
    "else:\n",
    "    print(\"Greetings!\")"
   ]
  },
  {
   "cell_type": "markdown",
   "id": "004b5b61",
   "metadata": {},
   "source": [
    "# 9.If your programme is stuck in an endless loop, what keys you’ll press?"
   ]
  },
  {
   "cell_type": "code",
   "execution_count": 16,
   "id": "568c9392",
   "metadata": {},
   "outputs": [],
   "source": [
    "#If the programme is stuck in an endless loop, we can press: \"CTRL + C\" or \"CTRL + Z\""
   ]
  },
  {
   "cell_type": "markdown",
   "id": "2551c719",
   "metadata": {},
   "source": [
    "# 10. How can you tell the difference between break and continue?"
   ]
  },
  {
   "cell_type": "code",
   "execution_count": 17,
   "id": "7d420886",
   "metadata": {},
   "outputs": [
    {
     "name": "stdout",
     "output_type": "stream",
     "text": [
      "2\n",
      "4\n"
     ]
    }
   ],
   "source": [
    "# \"break\":A break statement in Python alters the flow of a loop by terminating it once a specified condition is met. \n",
    "#eg. if in a list [1,2,3,4,5,6], we want only even numbers and we will come out of the loop after finding no. greater than 4.\n",
    "l = [1,2,3,4,5,6]\n",
    "for i in l:\n",
    "    if i%2==0:\n",
    "        if i<=4:\n",
    "            print(i)\n",
    "        else:\n",
    "            break"
   ]
  },
  {
   "cell_type": "code",
   "execution_count": 18,
   "id": "f1df589a",
   "metadata": {},
   "outputs": [
    {
     "name": "stdout",
     "output_type": "stream",
     "text": [
      "2\n"
     ]
    }
   ],
   "source": [
    "# \"continue\": The continue statement in Python is used to skip the remaining code inside a loop for the current iteration only.\n",
    "#eg: if in a list [1,2,3,4,5,6], find even no.and skip the remaining code inside a loop for value=>4.\n",
    "l = [1,2,3,4,5,6]\n",
    "for i in l:\n",
    "    if i%2==0:\n",
    "        if i<4:\n",
    "            print(i)\n",
    "        else:\n",
    "            continue"
   ]
  },
  {
   "cell_type": "markdown",
   "id": "59a1fe1e",
   "metadata": {},
   "source": [
    "# 11. In a for loop, what is the difference between range(10), range(0, 10), and range(0, 10, 1)?"
   ]
  },
  {
   "cell_type": "code",
   "execution_count": 19,
   "id": "761fdd2a",
   "metadata": {},
   "outputs": [
    {
     "data": {
      "text/plain": [
       "range(0, 10)"
      ]
     },
     "execution_count": 19,
     "metadata": {},
     "output_type": "execute_result"
    }
   ],
   "source": [
    "range(10)"
   ]
  },
  {
   "cell_type": "code",
   "execution_count": 20,
   "id": "4855aa34",
   "metadata": {},
   "outputs": [
    {
     "data": {
      "text/plain": [
       "range(0, 10)"
      ]
     },
     "execution_count": 20,
     "metadata": {},
     "output_type": "execute_result"
    }
   ],
   "source": [
    "range(0,10,1)"
   ]
  },
  {
   "cell_type": "code",
   "execution_count": 21,
   "id": "ff897479",
   "metadata": {},
   "outputs": [],
   "source": [
    "# above example shows that, range(10) = range(0,10)= range(0,10,1). range initial value by default always starts with 0 and ends with number lesser than end number, moving with the difference of '1'."
   ]
  },
  {
   "cell_type": "code",
   "execution_count": 22,
   "id": "5c04215e",
   "metadata": {},
   "outputs": [
    {
     "name": "stdout",
     "output_type": "stream",
     "text": [
      "0\n",
      "1\n",
      "2\n",
      "3\n",
      "4\n",
      "5\n",
      "6\n",
      "7\n",
      "8\n",
      "9\n"
     ]
    }
   ],
   "source": [
    "for i in range(10):\n",
    "    print(i)"
   ]
  },
  {
   "cell_type": "code",
   "execution_count": 23,
   "id": "a3aeb9de",
   "metadata": {},
   "outputs": [
    {
     "name": "stdout",
     "output_type": "stream",
     "text": [
      "0\n",
      "1\n",
      "2\n",
      "3\n",
      "4\n",
      "5\n",
      "6\n",
      "7\n",
      "8\n",
      "9\n"
     ]
    }
   ],
   "source": [
    "for i in range(0,10):\n",
    "    print(i)"
   ]
  },
  {
   "cell_type": "code",
   "execution_count": 24,
   "id": "e9ab69b3",
   "metadata": {},
   "outputs": [
    {
     "name": "stdout",
     "output_type": "stream",
     "text": [
      "0\n",
      "1\n",
      "2\n",
      "3\n",
      "4\n",
      "5\n",
      "6\n",
      "7\n",
      "8\n",
      "9\n"
     ]
    }
   ],
   "source": [
    "for i in range(0,10,1):\n",
    "    print(i)"
   ]
  },
  {
   "cell_type": "markdown",
   "id": "1f52d31a",
   "metadata": {},
   "source": [
    "# 12. Write a short program that prints the numbers 1 to 10 using a for loop. Then write an equivalent program that prints the numbers 1 to 10 using a while loop."
   ]
  },
  {
   "cell_type": "code",
   "execution_count": 25,
   "id": "830f3e2b",
   "metadata": {},
   "outputs": [
    {
     "name": "stdout",
     "output_type": "stream",
     "text": [
      "1\n",
      "2\n",
      "3\n",
      "4\n",
      "5\n",
      "6\n",
      "7\n",
      "8\n",
      "9\n",
      "10\n"
     ]
    }
   ],
   "source": [
    "#for loop:\n",
    "for i in range(1,11):\n",
    "    print(i)"
   ]
  },
  {
   "cell_type": "code",
   "execution_count": 26,
   "id": "2a409b60",
   "metadata": {},
   "outputs": [
    {
     "name": "stdout",
     "output_type": "stream",
     "text": [
      "1\n",
      "2\n",
      "3\n",
      "4\n",
      "5\n",
      "6\n",
      "7\n",
      "8\n",
      "9\n",
      "10\n"
     ]
    }
   ],
   "source": [
    "#while loop:\n",
    "l = 10\n",
    "i=1\n",
    "while i<=l:\n",
    "    print(i)\n",
    "    i = i+1"
   ]
  },
  {
   "cell_type": "markdown",
   "id": "1f58e005",
   "metadata": {},
   "source": [
    "# 13. If you had a function named bacon() inside a module named spam, how would you call it after importing spam?"
   ]
  },
  {
   "cell_type": "code",
   "execution_count": null,
   "id": "c4486821",
   "metadata": {},
   "outputs": [],
   "source": [
    "#import spam\n",
    "#spam.bacon()"
   ]
  }
 ],
 "metadata": {
  "kernelspec": {
   "display_name": "Python 3 (ipykernel)",
   "language": "python",
   "name": "python3"
  },
  "language_info": {
   "codemirror_mode": {
    "name": "ipython",
    "version": 3
   },
   "file_extension": ".py",
   "mimetype": "text/x-python",
   "name": "python",
   "nbconvert_exporter": "python",
   "pygments_lexer": "ipython3",
   "version": "3.9.12"
  }
 },
 "nbformat": 4,
 "nbformat_minor": 5
}
