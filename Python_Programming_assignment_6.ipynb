{
 "cells": [
  {
   "cell_type": "markdown",
   "id": "a4687ecf-fc57-4b7e-960b-1d5d654b3d31",
   "metadata": {},
   "source": [
    "# 1. Write a Python Program to Display Fibonacci Sequence Using Recursion?"
   ]
  },
  {
   "cell_type": "code",
   "execution_count": 5,
   "id": "b0264133-cc24-43d7-ad24-e0c22cbdaa42",
   "metadata": {},
   "outputs": [
    {
     "name": "stdin",
     "output_type": "stream",
     "text": [
      "How many terms?  5\n"
     ]
    },
    {
     "name": "stdout",
     "output_type": "stream",
     "text": [
      "0\n",
      "1\n",
      "1\n",
      "2\n",
      "3\n"
     ]
    }
   ],
   "source": [
    "def rec_fibo(n):\n",
    "    \n",
    "    if n <= 1:  \n",
    "        return n  \n",
    "    else:  \n",
    "        return(rec_fibo(n-1) + rec_fibo(n-2))  \n",
    "# take input from the user  \n",
    "nterms = int(input(\"How many terms? \"))  \n",
    "# check if the number of terms is valid  \n",
    "if nterms <= 0:  \n",
    "       print(\"Plese enter a positive integer\")  \n",
    "else:\n",
    "    for i in range(nterms):\n",
    "        print(rec_fibo(i))  \n",
    "    "
   ]
  },
  {
   "cell_type": "markdown",
   "id": "3ba6f9bd-6dff-4ec9-967d-a9f574199c1a",
   "metadata": {},
   "source": [
    "# 2. Write a Python Program to Find Factorial of Number Using Recursion?"
   ]
  },
  {
   "cell_type": "code",
   "execution_count": 26,
   "id": "609c4d2f-b5ac-4ad0-9ffe-c4b3a932dc8d",
   "metadata": {},
   "outputs": [
    {
     "name": "stdin",
     "output_type": "stream",
     "text": [
      "enter positive integer:  6\n"
     ]
    },
    {
     "name": "stdout",
     "output_type": "stream",
     "text": [
      "factorial of  6 is equal to  720\n"
     ]
    }
   ],
   "source": [
    "def rec_fac(n):\n",
    "    if n<0:\n",
    "        print(\"please enter positive integer\")\n",
    "    elif n==0 or n == 1:\n",
    "        return 1\n",
    "    else:\n",
    "        return n*rec_fac(n-1)\n",
    "\n",
    "#input:\n",
    "nth_term = int(input(\"enter positive integer: \"))\n",
    "    \n",
    "print(\"factorial of \", nth_term, \"is equal to \", rec_fac(nth_term))        "
   ]
  },
  {
   "cell_type": "markdown",
   "id": "18bc98b5-7041-4304-acae-19130892bd7c",
   "metadata": {},
   "source": [
    "# 3. Write a Python Program to calculate your Body Mass Index?"
   ]
  },
  {
   "cell_type": "code",
   "execution_count": 37,
   "id": "0d99ae8e-d13d-4a56-a79b-8c9b3fa0c259",
   "metadata": {},
   "outputs": [
    {
     "name": "stdin",
     "output_type": "stream",
     "text": [
      "enter your weight in Kg 54\n",
      "enter height in feet:  5.4\n"
     ]
    },
    {
     "data": {
      "text/plain": [
       "19.93316743835133"
      ]
     },
     "execution_count": 37,
     "metadata": {},
     "output_type": "execute_result"
    }
   ],
   "source": [
    "#Body Mass Index = Body Mass Index (BMI) is a person's weight in kilograms (or pounds) divided by the square of height in meters (or feet).\n",
    "def BMI():\n",
    "    weight = float(input(\"enter your weight in Kg\"))\n",
    "    height_f = float(input(\"enter height in feet: \"))\n",
    "    height = height_f * 0.3048\n",
    "    bmi = weight/(height)**2\n",
    "    return bmi\n",
    "BMI()"
   ]
  },
  {
   "cell_type": "markdown",
   "id": "951e9b92-f92a-4c7a-98a2-ce7d4610d6cf",
   "metadata": {},
   "source": [
    "# 4. Write a Python Program to calculate the natural logarithm of any number? "
   ]
  },
  {
   "cell_type": "code",
   "execution_count": 40,
   "id": "ff40c618-413c-4e97-a4c0-f756af4744e8",
   "metadata": {},
   "outputs": [
    {
     "name": "stdin",
     "output_type": "stream",
     "text": [
      "Enter the number:  6\n"
     ]
    },
    {
     "name": "stdout",
     "output_type": "stream",
     "text": [
      "The value is: 1.791759469228055\n"
     ]
    }
   ],
   "source": [
    "import math\n",
    "\n",
    "number = int(input(\"Enter the number: \"))\n",
    "\n",
    "natural_log = math.log(number)\n",
    "\n",
    "print(\"The value is:\",natural_log)"
   ]
  },
  {
   "cell_type": "markdown",
   "id": "660c0c70-7234-4dd4-9702-a931bbb8493b",
   "metadata": {},
   "source": [
    "# 5. Write a Python Program for cube sum of first n natural numbers?"
   ]
  },
  {
   "cell_type": "code",
   "execution_count": 1,
   "id": "37a38e29-1d5d-41b6-9dec-3a808ac448d8",
   "metadata": {},
   "outputs": [
    {
     "name": "stdin",
     "output_type": "stream",
     "text": [
      "enter natural number:  3\n"
     ]
    },
    {
     "name": "stdout",
     "output_type": "stream",
     "text": [
      "Cubic Sum of first 3 numbers is equals to:  36.0\n"
     ]
    }
   ],
   "source": [
    "def cub_sum(n):\n",
    "    if n<1:\n",
    "        print(\"enter positive integer\")\n",
    "    else:\n",
    "        return ((n*(n+1))/2)**2\n",
    "\n",
    "#input:\n",
    "nth = int(input(\"enter natural number: \"))\n",
    "\n",
    "print(\"Cubic Sum of first\" , nth , \"numbers is equals to: \" , cub_sum(nth))"
   ]
  },
  {
   "cell_type": "code",
   "execution_count": null,
   "id": "0d49c39a-1f8f-46d5-8040-59a102f9566e",
   "metadata": {},
   "outputs": [],
   "source": []
  }
 ],
 "metadata": {
  "kernelspec": {
   "display_name": "Python 3 (ipykernel)",
   "language": "python",
   "name": "python3"
  },
  "language_info": {
   "codemirror_mode": {
    "name": "ipython",
    "version": 3
   },
   "file_extension": ".py",
   "mimetype": "text/x-python",
   "name": "python",
   "nbconvert_exporter": "python",
   "pygments_lexer": "ipython3",
   "version": "3.10.6"
  }
 },
 "nbformat": 4,
 "nbformat_minor": 5
}
