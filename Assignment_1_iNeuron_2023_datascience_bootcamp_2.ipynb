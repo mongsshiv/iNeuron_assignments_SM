{
 "cells": [
  {
   "cell_type": "markdown",
   "id": "78bad162",
   "metadata": {},
   "source": [
    "# 1. In the below elements which of them are values or an expression? eg:- values can be integer or string and expressions will be mathematical operators."
   ]
  },
  {
   "cell_type": "code",
   "execution_count": 1,
   "id": "e7823ebc",
   "metadata": {},
   "outputs": [],
   "source": [
    "#*  :- Multiplication Operator\n",
    "#'hello'  :- string\n",
    "#-87.8   :- Float\n",
    "#-   :- Subtraction Operator\n",
    "#/   :- Division Operator\n",
    "#+   :- Summation operator\n",
    "#6   :- Integer\n"
   ]
  },
  {
   "cell_type": "markdown",
   "id": "0b5fcfce",
   "metadata": {},
   "source": [
    "# 2. What is the difference between string and variable?"
   ]
  },
  {
   "cell_type": "code",
   "execution_count": 2,
   "id": "531155e3",
   "metadata": {},
   "outputs": [],
   "source": [
    "# A string is a data type, which can contain any type of charater, be its alphabet or numeric or special character. It is immutable.\n",
    "# A Variable is a function type that are use to store different type of  data. A variable can be a string, integer, float or complex"
   ]
  },
  {
   "cell_type": "markdown",
   "id": "9cb37bf2",
   "metadata": {},
   "source": [
    "# 3. Describe three different data types."
   ]
  },
  {
   "cell_type": "code",
   "execution_count": 3,
   "id": "a042e67e",
   "metadata": {},
   "outputs": [],
   "source": [
    "# 1. String: String is a data type, which can contain any type of charater, be its alphabet or numeric or special character. It is immutable.the values are always under double quotes. Eg: str1 = \"My name is Shivani.\" \n",
    "# 2. Integer: Integer takes numerical values only, with whole number. It does not accept decimal values.the values are not under double or single quotes. Eg: int1 = 23.\n",
    "# 3. Float: Float represents numerical values which can have decimal. eg. flt1 = 23.00 , or flt2 = 45.89."
   ]
  },
  {
   "cell_type": "markdown",
   "id": "626e759e",
   "metadata": {},
   "source": [
    "# 4. What is an expression made up of? What do all expressions do?"
   ]
  },
  {
   "cell_type": "code",
   "execution_count": 6,
   "id": "58f04ce0",
   "metadata": {},
   "outputs": [
    {
     "name": "stdout",
     "output_type": "stream",
     "text": [
      "Addition: 15\n",
      "Subtraction: 9\n",
      "Multiplication: 36\n",
      "Division: 4.0\n",
      "Square of12: 144\n",
      "Remainder: 4\n"
     ]
    }
   ],
   "source": [
    "# Expressions made up of Mathematical operators such as:\n",
    "# +  :- it adds the values.eg:\n",
    "a = 12+3\n",
    "print(f\"Addition: {a}\")\n",
    "# -  :- it subtracts the values.eg:\n",
    "b = 12-3\n",
    "print(f\"Subtraction: {b}\")\n",
    "# *  :- it multiplies the values.eg:\n",
    "c = 12*3\n",
    "print(f\"Multiplication: {c}\")\n",
    "# /  :- it divides the values and gives Quotient.eg:\n",
    "d = 12/3\n",
    "print(f\"Division: {d}\")\n",
    "# ** :- it raises the power to the given number.eg:\n",
    "e = 12**2\n",
    "print(f\"Square of12: {e}\")\n",
    "# //  :- it gives remainder of the division.eg:\n",
    "f = 12//3\n",
    "print(f\"Remainder: {f}\")"
   ]
  },
  {
   "cell_type": "markdown",
   "id": "e074f2a1",
   "metadata": {},
   "source": [
    "# 5. This assignment statements, like spam = 10. What is the difference between an expression and a statement?"
   ]
  },
  {
   "cell_type": "code",
   "execution_count": 7,
   "id": "70b34973",
   "metadata": {},
   "outputs": [],
   "source": [
    "# In an expression, we can apply operations and can change or reduce the value. \n",
    "#But a statement is something which is fixed and we cannot apply any operations on it."
   ]
  },
  {
   "cell_type": "markdown",
   "id": "46035313",
   "metadata": {},
   "source": [
    "# 6. What is the difference between an expression and a statement?"
   ]
  },
  {
   "cell_type": "code",
   "execution_count": 8,
   "id": "8968982a",
   "metadata": {},
   "outputs": [
    {
     "data": {
      "text/plain": [
       "23"
      ]
     },
     "execution_count": 8,
     "metadata": {},
     "output_type": "execute_result"
    }
   ],
   "source": [
    "bacon = 22\n",
    "bacon + 1"
   ]
  },
  {
   "cell_type": "markdown",
   "id": "0194fee8",
   "metadata": {},
   "source": [
    "# 7. What should the values of the following two terms be?"
   ]
  },
  {
   "cell_type": "code",
   "execution_count": 9,
   "id": "a66758c0",
   "metadata": {},
   "outputs": [
    {
     "data": {
      "text/plain": [
       "'spamspamspam'"
      ]
     },
     "execution_count": 9,
     "metadata": {},
     "output_type": "execute_result"
    }
   ],
   "source": [
    "'spam' + 'spamspam'"
   ]
  },
  {
   "cell_type": "code",
   "execution_count": 10,
   "id": "15e4877d",
   "metadata": {},
   "outputs": [
    {
     "data": {
      "text/plain": [
       "'spamspamspam'"
      ]
     },
     "execution_count": 10,
     "metadata": {},
     "output_type": "execute_result"
    }
   ],
   "source": [
    "'spam' * 3"
   ]
  },
  {
   "cell_type": "markdown",
   "id": "7be9d07e",
   "metadata": {},
   "source": [
    "# 8. Why is eggs a valid variable name while 100 is invalid?"
   ]
  },
  {
   "cell_type": "code",
   "execution_count": 11,
   "id": "ab328e7f",
   "metadata": {},
   "outputs": [],
   "source": [
    "# 'eggs' is valid variable name because it starts with the alphabet character, which satisfies the condition to be a variable.\n",
    "# while '100' is a whole numerical value which does not satisfies the rule for being a variale. But, 'egg100' can be a valid variable."
   ]
  },
  {
   "cell_type": "markdown",
   "id": "8a0f45d6",
   "metadata": {},
   "source": [
    "# 9. What three functions can be used to get the integer, floating-point number, or string version of a value?"
   ]
  },
  {
   "cell_type": "code",
   "execution_count": 12,
   "id": "7afae864",
   "metadata": {},
   "outputs": [],
   "source": [
    "# for integer :- int\n",
    "# for floating-point number :- float\n",
    "# for string  :- str"
   ]
  },
  {
   "cell_type": "markdown",
   "id": "99c7270f",
   "metadata": {},
   "source": [
    "# 10. Why does this expression cause an error? How can you fix it?"
   ]
  },
  {
   "cell_type": "code",
   "execution_count": 13,
   "id": "49f1ccea",
   "metadata": {},
   "outputs": [
    {
     "ename": "TypeError",
     "evalue": "can only concatenate str (not \"int\") to str",
     "output_type": "error",
     "traceback": [
      "\u001b[1;31m---------------------------------------------------------------------------\u001b[0m",
      "\u001b[1;31mTypeError\u001b[0m                                 Traceback (most recent call last)",
      "Input \u001b[1;32mIn [13]\u001b[0m, in \u001b[0;36m<cell line: 2>\u001b[1;34m()\u001b[0m\n\u001b[0;32m      1\u001b[0m \u001b[38;5;66;03m# given expression:\u001b[39;00m\n\u001b[1;32m----> 2\u001b[0m \u001b[38;5;124;43m'\u001b[39;49m\u001b[38;5;124;43mI have eaten \u001b[39;49m\u001b[38;5;124;43m'\u001b[39;49m\u001b[43m \u001b[49m\u001b[38;5;241;43m+\u001b[39;49m\u001b[43m \u001b[49m\u001b[38;5;241;43m99\u001b[39;49m \u001b[38;5;241m+\u001b[39m \u001b[38;5;124m'\u001b[39m\u001b[38;5;124m burritos.\u001b[39m\u001b[38;5;124m'\u001b[39m\n",
      "\u001b[1;31mTypeError\u001b[0m: can only concatenate str (not \"int\") to str"
     ]
    }
   ],
   "source": [
    "# given expression:\n",
    "'I have eaten ' + 99 + ' burritos.'"
   ]
  },
  {
   "cell_type": "code",
   "execution_count": 14,
   "id": "723a07d3",
   "metadata": {},
   "outputs": [],
   "source": [
    "# the above expression gives an error because mathematical operations do not operate on different types of data types together.\n",
    "# here, operation is done for concatination of string data type with integer data type. due to which it is giving error.\n",
    "# Solution:  converting integer value to a string."
   ]
  },
  {
   "cell_type": "code",
   "execution_count": 15,
   "id": "3efa70c9",
   "metadata": {},
   "outputs": [
    {
     "data": {
      "text/plain": [
       "'I have eaten 99 burritos.'"
      ]
     },
     "execution_count": 15,
     "metadata": {},
     "output_type": "execute_result"
    }
   ],
   "source": [
    "# correct expression:\n",
    "'I have eaten ' + \"99\" + ' burritos.'"
   ]
  }
 ],
 "metadata": {
  "kernelspec": {
   "display_name": "Python 3 (ipykernel)",
   "language": "python",
   "name": "python3"
  },
  "language_info": {
   "codemirror_mode": {
    "name": "ipython",
    "version": 3
   },
   "file_extension": ".py",
   "mimetype": "text/x-python",
   "name": "python",
   "nbconvert_exporter": "python",
   "pygments_lexer": "ipython3",
   "version": "3.9.12"
  }
 },
 "nbformat": 4,
 "nbformat_minor": 5
}
